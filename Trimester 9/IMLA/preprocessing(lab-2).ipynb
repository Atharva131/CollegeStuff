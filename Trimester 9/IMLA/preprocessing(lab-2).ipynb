{
 "cells": [
  {
   "cell_type": "markdown",
   "id": "floppy-jewel",
   "metadata": {},
   "source": [
    "## Data Preprocessing\n",
    "### Name: Nikam Atharv Satish\n",
    "### Roll No: PA-10"
   ]
  },
  {
   "cell_type": "code",
   "execution_count": 1,
   "id": "geological-functionality",
   "metadata": {},
   "outputs": [],
   "source": [
    "import numpy as np\n",
    "import pandas as pd\n",
    "\n",
    "import matplotlib.pyplot as plt\n",
    "import seaborn as sns"
   ]
  },
  {
   "cell_type": "code",
   "execution_count": 4,
   "id": "selected-amber",
   "metadata": {},
   "outputs": [],
   "source": [
    "df = pd.read_csv(\"Emp.csv\")"
   ]
  },
  {
   "cell_type": "code",
   "execution_count": 5,
   "id": "black-excellence",
   "metadata": {},
   "outputs": [
    {
     "data": {
      "text/html": [
       "<div>\n",
       "<style scoped>\n",
       "    .dataframe tbody tr th:only-of-type {\n",
       "        vertical-align: middle;\n",
       "    }\n",
       "\n",
       "    .dataframe tbody tr th {\n",
       "        vertical-align: top;\n",
       "    }\n",
       "\n",
       "    .dataframe thead th {\n",
       "        text-align: right;\n",
       "    }\n",
       "</style>\n",
       "<table border=\"1\" class=\"dataframe\">\n",
       "  <thead>\n",
       "    <tr style=\"text-align: right;\">\n",
       "      <th></th>\n",
       "      <th>empno</th>\n",
       "      <th>ename</th>\n",
       "      <th>job</th>\n",
       "      <th>DOJ</th>\n",
       "      <th>DOB</th>\n",
       "      <th>deptid</th>\n",
       "      <th>salary</th>\n",
       "    </tr>\n",
       "  </thead>\n",
       "  <tbody>\n",
       "    <tr>\n",
       "      <th>0</th>\n",
       "      <td>1</td>\n",
       "      <td>Anil</td>\n",
       "      <td>Clerk</td>\n",
       "      <td>NaN</td>\n",
       "      <td>NaN</td>\n",
       "      <td>NaN</td>\n",
       "      <td>NaN</td>\n",
       "    </tr>\n",
       "    <tr>\n",
       "      <th>1</th>\n",
       "      <td>2</td>\n",
       "      <td>Balkrushna</td>\n",
       "      <td>NaN</td>\n",
       "      <td>15-Jul-17</td>\n",
       "      <td>16-Mar-12</td>\n",
       "      <td>10.0</td>\n",
       "      <td>10000.0</td>\n",
       "    </tr>\n",
       "    <tr>\n",
       "      <th>2</th>\n",
       "      <td>3</td>\n",
       "      <td>Mathew</td>\n",
       "      <td>Manager</td>\n",
       "      <td>16-Mar-12</td>\n",
       "      <td>16-Mar-92</td>\n",
       "      <td>20.0</td>\n",
       "      <td>50000.0</td>\n",
       "    </tr>\n",
       "    <tr>\n",
       "      <th>3</th>\n",
       "      <td>4</td>\n",
       "      <td>Suhas</td>\n",
       "      <td>Manager</td>\n",
       "      <td>16-Mar-12</td>\n",
       "      <td>17-Mar-91</td>\n",
       "      <td>20.0</td>\n",
       "      <td>NaN</td>\n",
       "    </tr>\n",
       "    <tr>\n",
       "      <th>4</th>\n",
       "      <td>5</td>\n",
       "      <td>Vimal</td>\n",
       "      <td>Accountant</td>\n",
       "      <td>18-Mar-17</td>\n",
       "      <td>18-Mar-91</td>\n",
       "      <td>20.0</td>\n",
       "      <td>45000.0</td>\n",
       "    </tr>\n",
       "  </tbody>\n",
       "</table>\n",
       "</div>"
      ],
      "text/plain": [
       "   empno       ename         job        DOJ        DOB  deptid   salary\n",
       "0      1        Anil       Clerk        NaN        NaN     NaN      NaN\n",
       "1      2  Balkrushna         NaN  15-Jul-17  16-Mar-12    10.0  10000.0\n",
       "2      3      Mathew     Manager  16-Mar-12  16-Mar-92    20.0  50000.0\n",
       "3      4       Suhas     Manager  16-Mar-12  17-Mar-91    20.0      NaN\n",
       "4      5       Vimal  Accountant  18-Mar-17  18-Mar-91    20.0  45000.0"
      ]
     },
     "execution_count": 5,
     "metadata": {},
     "output_type": "execute_result"
    }
   ],
   "source": [
    "df.head()"
   ]
  },
  {
   "cell_type": "code",
   "execution_count": 6,
   "id": "exotic-floating",
   "metadata": {},
   "outputs": [
    {
     "data": {
      "text/html": [
       "<div>\n",
       "<style scoped>\n",
       "    .dataframe tbody tr th:only-of-type {\n",
       "        vertical-align: middle;\n",
       "    }\n",
       "\n",
       "    .dataframe tbody tr th {\n",
       "        vertical-align: top;\n",
       "    }\n",
       "\n",
       "    .dataframe thead th {\n",
       "        text-align: right;\n",
       "    }\n",
       "</style>\n",
       "<table border=\"1\" class=\"dataframe\">\n",
       "  <thead>\n",
       "    <tr style=\"text-align: right;\">\n",
       "      <th></th>\n",
       "      <th>empno</th>\n",
       "      <th>ename</th>\n",
       "      <th>job</th>\n",
       "      <th>DOJ</th>\n",
       "      <th>DOB</th>\n",
       "      <th>deptid</th>\n",
       "      <th>salary</th>\n",
       "    </tr>\n",
       "  </thead>\n",
       "  <tbody>\n",
       "    <tr>\n",
       "      <th>0</th>\n",
       "      <td>False</td>\n",
       "      <td>False</td>\n",
       "      <td>False</td>\n",
       "      <td>True</td>\n",
       "      <td>True</td>\n",
       "      <td>True</td>\n",
       "      <td>True</td>\n",
       "    </tr>\n",
       "    <tr>\n",
       "      <th>1</th>\n",
       "      <td>False</td>\n",
       "      <td>False</td>\n",
       "      <td>True</td>\n",
       "      <td>False</td>\n",
       "      <td>False</td>\n",
       "      <td>False</td>\n",
       "      <td>False</td>\n",
       "    </tr>\n",
       "    <tr>\n",
       "      <th>2</th>\n",
       "      <td>False</td>\n",
       "      <td>False</td>\n",
       "      <td>False</td>\n",
       "      <td>False</td>\n",
       "      <td>False</td>\n",
       "      <td>False</td>\n",
       "      <td>False</td>\n",
       "    </tr>\n",
       "    <tr>\n",
       "      <th>3</th>\n",
       "      <td>False</td>\n",
       "      <td>False</td>\n",
       "      <td>False</td>\n",
       "      <td>False</td>\n",
       "      <td>False</td>\n",
       "      <td>False</td>\n",
       "      <td>True</td>\n",
       "    </tr>\n",
       "    <tr>\n",
       "      <th>4</th>\n",
       "      <td>False</td>\n",
       "      <td>False</td>\n",
       "      <td>False</td>\n",
       "      <td>False</td>\n",
       "      <td>False</td>\n",
       "      <td>False</td>\n",
       "      <td>False</td>\n",
       "    </tr>\n",
       "    <tr>\n",
       "      <th>5</th>\n",
       "      <td>False</td>\n",
       "      <td>False</td>\n",
       "      <td>False</td>\n",
       "      <td>False</td>\n",
       "      <td>False</td>\n",
       "      <td>False</td>\n",
       "      <td>False</td>\n",
       "    </tr>\n",
       "    <tr>\n",
       "      <th>6</th>\n",
       "      <td>False</td>\n",
       "      <td>False</td>\n",
       "      <td>False</td>\n",
       "      <td>False</td>\n",
       "      <td>False</td>\n",
       "      <td>False</td>\n",
       "      <td>False</td>\n",
       "    </tr>\n",
       "    <tr>\n",
       "      <th>7</th>\n",
       "      <td>False</td>\n",
       "      <td>False</td>\n",
       "      <td>False</td>\n",
       "      <td>False</td>\n",
       "      <td>False</td>\n",
       "      <td>False</td>\n",
       "      <td>False</td>\n",
       "    </tr>\n",
       "    <tr>\n",
       "      <th>8</th>\n",
       "      <td>False</td>\n",
       "      <td>False</td>\n",
       "      <td>False</td>\n",
       "      <td>False</td>\n",
       "      <td>False</td>\n",
       "      <td>True</td>\n",
       "      <td>False</td>\n",
       "    </tr>\n",
       "    <tr>\n",
       "      <th>9</th>\n",
       "      <td>False</td>\n",
       "      <td>False</td>\n",
       "      <td>False</td>\n",
       "      <td>False</td>\n",
       "      <td>False</td>\n",
       "      <td>False</td>\n",
       "      <td>False</td>\n",
       "    </tr>\n",
       "    <tr>\n",
       "      <th>10</th>\n",
       "      <td>False</td>\n",
       "      <td>False</td>\n",
       "      <td>False</td>\n",
       "      <td>False</td>\n",
       "      <td>False</td>\n",
       "      <td>False</td>\n",
       "      <td>False</td>\n",
       "    </tr>\n",
       "  </tbody>\n",
       "</table>\n",
       "</div>"
      ],
      "text/plain": [
       "    empno  ename    job    DOJ    DOB  deptid  salary\n",
       "0   False  False  False   True   True    True    True\n",
       "1   False  False   True  False  False   False   False\n",
       "2   False  False  False  False  False   False   False\n",
       "3   False  False  False  False  False   False    True\n",
       "4   False  False  False  False  False   False   False\n",
       "5   False  False  False  False  False   False   False\n",
       "6   False  False  False  False  False   False   False\n",
       "7   False  False  False  False  False   False   False\n",
       "8   False  False  False  False  False    True   False\n",
       "9   False  False  False  False  False   False   False\n",
       "10  False  False  False  False  False   False   False"
      ]
     },
     "execution_count": 6,
     "metadata": {},
     "output_type": "execute_result"
    }
   ],
   "source": [
    "df.isna()"
   ]
  },
  {
   "cell_type": "code",
   "execution_count": 7,
   "id": "finished-colorado",
   "metadata": {},
   "outputs": [
    {
     "data": {
      "text/html": [
       "<div>\n",
       "<style scoped>\n",
       "    .dataframe tbody tr th:only-of-type {\n",
       "        vertical-align: middle;\n",
       "    }\n",
       "\n",
       "    .dataframe tbody tr th {\n",
       "        vertical-align: top;\n",
       "    }\n",
       "\n",
       "    .dataframe thead th {\n",
       "        text-align: right;\n",
       "    }\n",
       "</style>\n",
       "<table border=\"1\" class=\"dataframe\">\n",
       "  <thead>\n",
       "    <tr style=\"text-align: right;\">\n",
       "      <th></th>\n",
       "      <th>empno</th>\n",
       "      <th>ename</th>\n",
       "      <th>job</th>\n",
       "      <th>DOJ</th>\n",
       "      <th>DOB</th>\n",
       "      <th>deptid</th>\n",
       "      <th>salary</th>\n",
       "    </tr>\n",
       "  </thead>\n",
       "  <tbody>\n",
       "    <tr>\n",
       "      <th>1</th>\n",
       "      <td>2</td>\n",
       "      <td>Balkrushna</td>\n",
       "      <td>NaN</td>\n",
       "      <td>15-Jul-17</td>\n",
       "      <td>16-Mar-12</td>\n",
       "      <td>10.0</td>\n",
       "      <td>10000.0</td>\n",
       "    </tr>\n",
       "    <tr>\n",
       "      <th>2</th>\n",
       "      <td>3</td>\n",
       "      <td>Mathew</td>\n",
       "      <td>Manager</td>\n",
       "      <td>16-Mar-12</td>\n",
       "      <td>16-Mar-92</td>\n",
       "      <td>20.0</td>\n",
       "      <td>50000.0</td>\n",
       "    </tr>\n",
       "    <tr>\n",
       "      <th>3</th>\n",
       "      <td>4</td>\n",
       "      <td>Suhas</td>\n",
       "      <td>Manager</td>\n",
       "      <td>16-Mar-12</td>\n",
       "      <td>17-Mar-91</td>\n",
       "      <td>20.0</td>\n",
       "      <td>NaN</td>\n",
       "    </tr>\n",
       "    <tr>\n",
       "      <th>4</th>\n",
       "      <td>5</td>\n",
       "      <td>Vimal</td>\n",
       "      <td>Accountant</td>\n",
       "      <td>18-Mar-17</td>\n",
       "      <td>18-Mar-91</td>\n",
       "      <td>20.0</td>\n",
       "      <td>45000.0</td>\n",
       "    </tr>\n",
       "    <tr>\n",
       "      <th>5</th>\n",
       "      <td>6</td>\n",
       "      <td>Kamal</td>\n",
       "      <td>Accountant</td>\n",
       "      <td>19-Nov-13</td>\n",
       "      <td>18-Mar-91</td>\n",
       "      <td>20.0</td>\n",
       "      <td>45000.0</td>\n",
       "    </tr>\n",
       "    <tr>\n",
       "      <th>6</th>\n",
       "      <td>7</td>\n",
       "      <td>Nanda</td>\n",
       "      <td>Manager</td>\n",
       "      <td>20-Mar-12</td>\n",
       "      <td>20-Jan-97</td>\n",
       "      <td>20.0</td>\n",
       "      <td>52000.0</td>\n",
       "    </tr>\n",
       "    <tr>\n",
       "      <th>7</th>\n",
       "      <td>8</td>\n",
       "      <td>Khushi</td>\n",
       "      <td>Manager</td>\n",
       "      <td>21-Mar-12</td>\n",
       "      <td>21-Jun-94</td>\n",
       "      <td>20.0</td>\n",
       "      <td>56000.0</td>\n",
       "    </tr>\n",
       "    <tr>\n",
       "      <th>8</th>\n",
       "      <td>9</td>\n",
       "      <td>Sayee</td>\n",
       "      <td>Cleark</td>\n",
       "      <td>16-Mar-12</td>\n",
       "      <td>22-Aug-98</td>\n",
       "      <td>NaN</td>\n",
       "      <td>21000.0</td>\n",
       "    </tr>\n",
       "    <tr>\n",
       "      <th>9</th>\n",
       "      <td>10</td>\n",
       "      <td>Sakhi</td>\n",
       "      <td>Accountant</td>\n",
       "      <td>23-Mar-12</td>\n",
       "      <td>14-Mar-91</td>\n",
       "      <td>30.0</td>\n",
       "      <td>46000.0</td>\n",
       "    </tr>\n",
       "    <tr>\n",
       "      <th>10</th>\n",
       "      <td>11</td>\n",
       "      <td>Soniya</td>\n",
       "      <td>Accountant</td>\n",
       "      <td>24-Mar-14</td>\n",
       "      <td>24-Mar-91</td>\n",
       "      <td>30.0</td>\n",
       "      <td>47000.0</td>\n",
       "    </tr>\n",
       "  </tbody>\n",
       "</table>\n",
       "</div>"
      ],
      "text/plain": [
       "    empno       ename         job        DOJ        DOB  deptid   salary\n",
       "1       2  Balkrushna         NaN  15-Jul-17  16-Mar-12    10.0  10000.0\n",
       "2       3      Mathew     Manager  16-Mar-12  16-Mar-92    20.0  50000.0\n",
       "3       4       Suhas     Manager  16-Mar-12  17-Mar-91    20.0      NaN\n",
       "4       5       Vimal  Accountant  18-Mar-17  18-Mar-91    20.0  45000.0\n",
       "5       6       Kamal  Accountant  19-Nov-13  18-Mar-91    20.0  45000.0\n",
       "6       7       Nanda     Manager  20-Mar-12  20-Jan-97    20.0  52000.0\n",
       "7       8      Khushi     Manager  21-Mar-12  21-Jun-94    20.0  56000.0\n",
       "8       9       Sayee      Cleark  16-Mar-12  22-Aug-98     NaN  21000.0\n",
       "9      10       Sakhi  Accountant  23-Mar-12  14-Mar-91    30.0  46000.0\n",
       "10     11      Soniya  Accountant  24-Mar-14  24-Mar-91    30.0  47000.0"
      ]
     },
     "execution_count": 7,
     "metadata": {},
     "output_type": "execute_result"
    }
   ],
   "source": [
    "df.dropna(thresh = 6)  #drop rows having less than 6 non-missing values"
   ]
  },
  {
   "cell_type": "code",
   "execution_count": 8,
   "id": "assumed-allah",
   "metadata": {},
   "outputs": [
    {
     "data": {
      "text/html": [
       "<div>\n",
       "<style scoped>\n",
       "    .dataframe tbody tr th:only-of-type {\n",
       "        vertical-align: middle;\n",
       "    }\n",
       "\n",
       "    .dataframe tbody tr th {\n",
       "        vertical-align: top;\n",
       "    }\n",
       "\n",
       "    .dataframe thead th {\n",
       "        text-align: right;\n",
       "    }\n",
       "</style>\n",
       "<table border=\"1\" class=\"dataframe\">\n",
       "  <thead>\n",
       "    <tr style=\"text-align: right;\">\n",
       "      <th></th>\n",
       "      <th>empno</th>\n",
       "      <th>ename</th>\n",
       "      <th>job</th>\n",
       "      <th>DOJ</th>\n",
       "      <th>DOB</th>\n",
       "      <th>deptid</th>\n",
       "      <th>salary</th>\n",
       "    </tr>\n",
       "  </thead>\n",
       "  <tbody>\n",
       "    <tr>\n",
       "      <th>0</th>\n",
       "      <td>1</td>\n",
       "      <td>Anil</td>\n",
       "      <td>Clerk</td>\n",
       "      <td>0</td>\n",
       "      <td>0</td>\n",
       "      <td>0.0</td>\n",
       "      <td>0.0</td>\n",
       "    </tr>\n",
       "    <tr>\n",
       "      <th>1</th>\n",
       "      <td>2</td>\n",
       "      <td>Balkrushna</td>\n",
       "      <td>0</td>\n",
       "      <td>15-Jul-17</td>\n",
       "      <td>16-Mar-12</td>\n",
       "      <td>10.0</td>\n",
       "      <td>10000.0</td>\n",
       "    </tr>\n",
       "    <tr>\n",
       "      <th>2</th>\n",
       "      <td>3</td>\n",
       "      <td>Mathew</td>\n",
       "      <td>Manager</td>\n",
       "      <td>16-Mar-12</td>\n",
       "      <td>16-Mar-92</td>\n",
       "      <td>20.0</td>\n",
       "      <td>50000.0</td>\n",
       "    </tr>\n",
       "    <tr>\n",
       "      <th>3</th>\n",
       "      <td>4</td>\n",
       "      <td>Suhas</td>\n",
       "      <td>Manager</td>\n",
       "      <td>16-Mar-12</td>\n",
       "      <td>17-Mar-91</td>\n",
       "      <td>20.0</td>\n",
       "      <td>0.0</td>\n",
       "    </tr>\n",
       "    <tr>\n",
       "      <th>4</th>\n",
       "      <td>5</td>\n",
       "      <td>Vimal</td>\n",
       "      <td>Accountant</td>\n",
       "      <td>18-Mar-17</td>\n",
       "      <td>18-Mar-91</td>\n",
       "      <td>20.0</td>\n",
       "      <td>45000.0</td>\n",
       "    </tr>\n",
       "    <tr>\n",
       "      <th>5</th>\n",
       "      <td>6</td>\n",
       "      <td>Kamal</td>\n",
       "      <td>Accountant</td>\n",
       "      <td>19-Nov-13</td>\n",
       "      <td>18-Mar-91</td>\n",
       "      <td>20.0</td>\n",
       "      <td>45000.0</td>\n",
       "    </tr>\n",
       "    <tr>\n",
       "      <th>6</th>\n",
       "      <td>7</td>\n",
       "      <td>Nanda</td>\n",
       "      <td>Manager</td>\n",
       "      <td>20-Mar-12</td>\n",
       "      <td>20-Jan-97</td>\n",
       "      <td>20.0</td>\n",
       "      <td>52000.0</td>\n",
       "    </tr>\n",
       "    <tr>\n",
       "      <th>7</th>\n",
       "      <td>8</td>\n",
       "      <td>Khushi</td>\n",
       "      <td>Manager</td>\n",
       "      <td>21-Mar-12</td>\n",
       "      <td>21-Jun-94</td>\n",
       "      <td>20.0</td>\n",
       "      <td>56000.0</td>\n",
       "    </tr>\n",
       "    <tr>\n",
       "      <th>8</th>\n",
       "      <td>9</td>\n",
       "      <td>Sayee</td>\n",
       "      <td>Cleark</td>\n",
       "      <td>16-Mar-12</td>\n",
       "      <td>22-Aug-98</td>\n",
       "      <td>0.0</td>\n",
       "      <td>21000.0</td>\n",
       "    </tr>\n",
       "    <tr>\n",
       "      <th>9</th>\n",
       "      <td>10</td>\n",
       "      <td>Sakhi</td>\n",
       "      <td>Accountant</td>\n",
       "      <td>23-Mar-12</td>\n",
       "      <td>14-Mar-91</td>\n",
       "      <td>30.0</td>\n",
       "      <td>46000.0</td>\n",
       "    </tr>\n",
       "    <tr>\n",
       "      <th>10</th>\n",
       "      <td>11</td>\n",
       "      <td>Soniya</td>\n",
       "      <td>Accountant</td>\n",
       "      <td>24-Mar-14</td>\n",
       "      <td>24-Mar-91</td>\n",
       "      <td>30.0</td>\n",
       "      <td>47000.0</td>\n",
       "    </tr>\n",
       "  </tbody>\n",
       "</table>\n",
       "</div>"
      ],
      "text/plain": [
       "    empno       ename         job        DOJ        DOB  deptid   salary\n",
       "0       1        Anil       Clerk          0          0     0.0      0.0\n",
       "1       2  Balkrushna           0  15-Jul-17  16-Mar-12    10.0  10000.0\n",
       "2       3      Mathew     Manager  16-Mar-12  16-Mar-92    20.0  50000.0\n",
       "3       4       Suhas     Manager  16-Mar-12  17-Mar-91    20.0      0.0\n",
       "4       5       Vimal  Accountant  18-Mar-17  18-Mar-91    20.0  45000.0\n",
       "5       6       Kamal  Accountant  19-Nov-13  18-Mar-91    20.0  45000.0\n",
       "6       7       Nanda     Manager  20-Mar-12  20-Jan-97    20.0  52000.0\n",
       "7       8      Khushi     Manager  21-Mar-12  21-Jun-94    20.0  56000.0\n",
       "8       9       Sayee      Cleark  16-Mar-12  22-Aug-98     0.0  21000.0\n",
       "9      10       Sakhi  Accountant  23-Mar-12  14-Mar-91    30.0  46000.0\n",
       "10     11      Soniya  Accountant  24-Mar-14  24-Mar-91    30.0  47000.0"
      ]
     },
     "execution_count": 8,
     "metadata": {},
     "output_type": "execute_result"
    }
   ],
   "source": [
    "df.fillna(0)"
   ]
  },
  {
   "cell_type": "code",
   "execution_count": 9,
   "id": "introductory-nightlife",
   "metadata": {},
   "outputs": [
    {
     "data": {
      "text/plain": [
       "0     10.0\n",
       "1     10.0\n",
       "2     20.0\n",
       "3     20.0\n",
       "4     20.0\n",
       "5     20.0\n",
       "6     20.0\n",
       "7     20.0\n",
       "8     10.0\n",
       "9     30.0\n",
       "10    30.0\n",
       "Name: deptid, dtype: float64"
      ]
     },
     "execution_count": 9,
     "metadata": {},
     "output_type": "execute_result"
    }
   ],
   "source": [
    "df[\"deptid\"].fillna(10)"
   ]
  },
  {
   "cell_type": "code",
   "execution_count": 10,
   "id": "sought-figure",
   "metadata": {},
   "outputs": [
    {
     "data": {
      "text/plain": [
       "0         NaN\n",
       "1     10000.0\n",
       "2     50000.0\n",
       "3     50000.0\n",
       "4     45000.0\n",
       "5     45000.0\n",
       "6     52000.0\n",
       "7     56000.0\n",
       "8     21000.0\n",
       "9     46000.0\n",
       "10    47000.0\n",
       "Name: salary, dtype: float64"
      ]
     },
     "execution_count": 10,
     "metadata": {},
     "output_type": "execute_result"
    }
   ],
   "source": [
    "df[\"salary\"].ffill()  #forward fill"
   ]
  },
  {
   "cell_type": "code",
   "execution_count": 11,
   "id": "blessed-maple",
   "metadata": {},
   "outputs": [
    {
     "data": {
      "text/plain": [
       "0     10000.0\n",
       "1     10000.0\n",
       "2     50000.0\n",
       "3     45000.0\n",
       "4     45000.0\n",
       "5     45000.0\n",
       "6     52000.0\n",
       "7     56000.0\n",
       "8     21000.0\n",
       "9     46000.0\n",
       "10    47000.0\n",
       "Name: salary, dtype: float64"
      ]
     },
     "execution_count": 11,
     "metadata": {},
     "output_type": "execute_result"
    }
   ],
   "source": [
    "df[\"salary\"].bfill()  #backward fill"
   ]
  },
  {
   "cell_type": "code",
   "execution_count": 12,
   "id": "ambient-imagination",
   "metadata": {},
   "outputs": [
    {
     "data": {
      "text/plain": [
       "0     10.0\n",
       "1     10.0\n",
       "2     20.0\n",
       "3     20.0\n",
       "4     20.0\n",
       "5     20.0\n",
       "6     20.0\n",
       "7     20.0\n",
       "8     30.0\n",
       "9     30.0\n",
       "10    30.0\n",
       "Name: deptid, dtype: float64"
      ]
     },
     "execution_count": 12,
     "metadata": {},
     "output_type": "execute_result"
    }
   ],
   "source": [
    "df[\"deptid\"].bfill()"
   ]
  },
  {
   "cell_type": "code",
   "execution_count": 13,
   "id": "leading-differential",
   "metadata": {},
   "outputs": [],
   "source": [
    "df = df.drop_duplicates()"
   ]
  },
  {
   "cell_type": "code",
   "execution_count": 14,
   "id": "reliable-guatemala",
   "metadata": {},
   "outputs": [
    {
     "name": "stdout",
     "output_type": "stream",
     "text": [
      "Original data: \n",
      " [[12, nan, 34], [10, 32, nan], [nan, 11, 20]]\n",
      "Imputed data: \n",
      " [[12.  21.5 34. ]\n",
      " [10.  32.  27. ]\n",
      " [11.  11.  20. ]]\n"
     ]
    }
   ],
   "source": [
    "from sklearn.impute import SimpleImputer\n",
    "\n",
    "imputer = SimpleImputer(missing_values = np.nan, strategy = 'mean') #create object, pass parameters\n",
    "#mean / median / most_frequent (i.e. mode)\n",
    "\n",
    "data = [[12, np.nan, 34], [10, 32, np.nan], [np.nan, 11, 20]]\n",
    "\n",
    "print(\"Original data: \\n\", data)\n",
    "\n",
    "imputer = imputer.fit(data)  #fitting the data\n",
    "\n",
    "data = imputer.transform(data)  #converting\n",
    "\n",
    "print(\"Imputed data: \\n\", data)"
   ]
  },
  {
   "cell_type": "code",
   "execution_count": 15,
   "id": "lined-cache",
   "metadata": {},
   "outputs": [
    {
     "name": "stdout",
     "output_type": "stream",
     "text": [
      "Original data: \n",
      " [[12, nan, 34], [10, 32, nan], [nan, 32, 34], [10, 45, 33]]\n",
      "Imputed data: \n",
      " [[12. 32. 34.]\n",
      " [10. 32. 34.]\n",
      " [10. 32. 34.]\n",
      " [10. 45. 33.]]\n"
     ]
    }
   ],
   "source": [
    "from sklearn.impute import SimpleImputer\n",
    "\n",
    "imputer = SimpleImputer(missing_values = np.nan, strategy = 'most_frequent') #create object, pass parameters\n",
    "#mean / median / most_frequent (i.e. mode)\n",
    "\n",
    "data = [[12, np.nan, 34], [10, 32, np.nan], [np.nan, 32, 34], [10, 45, 33]]\n",
    "\n",
    "print(\"Original data: \\n\", data)\n",
    "\n",
    "imputer = imputer.fit(data)  #fitting the data\n",
    "\n",
    "data = imputer.transform(data)  #converting\n",
    "\n",
    "print(\"Imputed data: \\n\", data)"
   ]
  },
  {
   "cell_type": "code",
   "execution_count": 16,
   "id": "upper-editing",
   "metadata": {},
   "outputs": [
    {
     "data": {
      "text/plain": [
       "array([[0.4472136 , 0.89442719],\n",
       "       [0.76822128, 0.6401844 ]])"
      ]
     },
     "execution_count": 16,
     "metadata": {},
     "output_type": "execute_result"
    }
   ],
   "source": [
    "# L2 normalization\n",
    "\n",
    "import numpy as np\n",
    "from sklearn.preprocessing import Normalizer\n",
    "\n",
    "data = np.array([[4.0, 8.0],[6.0,5.0]])\n",
    "\n",
    "n_max = Normalizer(norm='l2')\n",
    "\n",
    "d1 = n_max.fit_transform(data)\n",
    "\n",
    "data \n",
    "\n",
    "d1"
   ]
  },
  {
   "cell_type": "code",
   "execution_count": 17,
   "id": "double-tolerance",
   "metadata": {},
   "outputs": [
    {
     "data": {
      "text/plain": [
       "array([[0.5       , 1.        ],\n",
       "       [1.        , 0.83333333]])"
      ]
     },
     "execution_count": 17,
     "metadata": {},
     "output_type": "execute_result"
    }
   ],
   "source": [
    "# max normalization\n",
    "n_max = Normalizer(norm='max')\n",
    "\n",
    "d1 = n_max.fit_transform(data)\n",
    "\n",
    "data \n",
    "\n",
    "d1"
   ]
  },
  {
   "cell_type": "code",
   "execution_count": 18,
   "id": "micro-bahamas",
   "metadata": {},
   "outputs": [
    {
     "data": {
      "text/plain": [
       "array([[0.33333333, 0.66666667],\n",
       "       [0.54545455, 0.45454545]])"
      ]
     },
     "execution_count": 18,
     "metadata": {},
     "output_type": "execute_result"
    }
   ],
   "source": [
    "n_12 = Normalizer(norm='l1')\n",
    "n_12.fit_transform(data)"
   ]
  },
  {
   "cell_type": "code",
   "execution_count": 19,
   "id": "phantom-equipment",
   "metadata": {},
   "outputs": [
    {
     "name": "stdout",
     "output_type": "stream",
     "text": [
      "StandardScaler()\n",
      "[[-1. -1.]\n",
      " [-1. -1.]\n",
      " [ 1.  1.]\n",
      " [ 1.  1.]]\n",
      "[[3. 3.]]\n"
     ]
    }
   ],
   "source": [
    "# StandardScaler\n",
    "\n",
    "from sklearn.preprocessing import StandardScaler\n",
    "\n",
    "data = [[0,0],[0,0],[1,1],[1,1]]\n",
    "\n",
    "scalar = StandardScaler()\n",
    "print(scalar.fit(data))\n",
    "print(scalar.transform(data))\n",
    "print(scalar.transform([[2,2]]))"
   ]
  },
  {
   "cell_type": "code",
   "execution_count": 20,
   "id": "transsexual-nepal",
   "metadata": {},
   "outputs": [
    {
     "name": "stdout",
     "output_type": "stream",
     "text": [
      "MinMaxScaler()\n",
      "[[0.   0.  ]\n",
      " [0.25 0.5 ]\n",
      " [0.5  1.  ]\n",
      " [1.   1.  ]]\n",
      "[[1.5 0. ]]\n"
     ]
    }
   ],
   "source": [
    "# MinMaxScaler\n",
    "\n",
    "from sklearn.preprocessing import MinMaxScaler\n",
    "\n",
    "data = [[-1,2],[-0.5,6],[0,10],[1,10]]\n",
    "\n",
    "scalar = MinMaxScaler()\n",
    "print(scalar.fit(data))\n",
    "print(scalar.transform(data))\n",
    "print(scalar.transform([[2,2]]))"
   ]
  },
  {
   "cell_type": "code",
   "execution_count": 30,
   "id": "hybrid-locator",
   "metadata": {},
   "outputs": [
    {
     "data": {
      "text/plain": [
       "array([[-3.45267063],\n",
       "       [ 5.77984656],\n",
       "       [-4.9059766 ]])"
      ]
     },
     "execution_count": 30,
     "metadata": {},
     "output_type": "execute_result"
    }
   ],
   "source": [
    "from sklearn.feature_selection import VarianceThreshold\n",
    "\n",
    "X = np.array([[-3.5077778, -3.45267063, 0.981903],\n",
    "             [-3.82581314, 5.77984656, 1.78926338],\n",
    "             [-2.62090281, -4.9059766, 0.27943565]])\n",
    "\n",
    "vt = VarianceThreshold(threshold=1.5)\n",
    "\n",
    "X_t = vt.fit_transform(X)\n",
    "X_t"
   ]
  },
  {
   "cell_type": "code",
   "execution_count": 22,
   "id": "interesting-lounge",
   "metadata": {},
   "outputs": [],
   "source": [
    "# from sklearn.datasets import load_iris\n",
    "\n",
    "# iris = load_iris()\n",
    "\n",
    "# X = iris.data\n",
    "# y = iris.target"
   ]
  },
  {
   "cell_type": "markdown",
   "id": "dynamic-barcelona",
   "metadata": {},
   "source": [
    "## Correlation"
   ]
  },
  {
   "cell_type": "code",
   "execution_count": 31,
   "id": "statistical-infrastructure",
   "metadata": {},
   "outputs": [
    {
     "data": {
      "text/html": [
       "<div>\n",
       "<style scoped>\n",
       "    .dataframe tbody tr th:only-of-type {\n",
       "        vertical-align: middle;\n",
       "    }\n",
       "\n",
       "    .dataframe tbody tr th {\n",
       "        vertical-align: top;\n",
       "    }\n",
       "\n",
       "    .dataframe thead th {\n",
       "        text-align: right;\n",
       "    }\n",
       "</style>\n",
       "<table border=\"1\" class=\"dataframe\">\n",
       "  <thead>\n",
       "    <tr style=\"text-align: right;\">\n",
       "      <th></th>\n",
       "      <th>empno</th>\n",
       "      <th>deptid</th>\n",
       "      <th>salary</th>\n",
       "    </tr>\n",
       "  </thead>\n",
       "  <tbody>\n",
       "    <tr>\n",
       "      <th>empno</th>\n",
       "      <td>1.000000</td>\n",
       "      <td>0.864882</td>\n",
       "      <td>0.322819</td>\n",
       "    </tr>\n",
       "    <tr>\n",
       "      <th>deptid</th>\n",
       "      <td>0.864882</td>\n",
       "      <td>1.000000</td>\n",
       "      <td>0.613446</td>\n",
       "    </tr>\n",
       "    <tr>\n",
       "      <th>salary</th>\n",
       "      <td>0.322819</td>\n",
       "      <td>0.613446</td>\n",
       "      <td>1.000000</td>\n",
       "    </tr>\n",
       "  </tbody>\n",
       "</table>\n",
       "</div>"
      ],
      "text/plain": [
       "           empno    deptid    salary\n",
       "empno   1.000000  0.864882  0.322819\n",
       "deptid  0.864882  1.000000  0.613446\n",
       "salary  0.322819  0.613446  1.000000"
      ]
     },
     "execution_count": 31,
     "metadata": {},
     "output_type": "execute_result"
    }
   ],
   "source": [
    "df.corr()"
   ]
  },
  {
   "cell_type": "code",
   "execution_count": 35,
   "id": "japanese-kruger",
   "metadata": {},
   "outputs": [
    {
     "data": {
      "image/png": "[encoded data removed]",
      "text/plain": [
       "<Figure size 288x288 with 2 Axes>"
      ]
     },
     "metadata": {
      "needs_background": "light"
     },
     "output_type": "display_data"
    }
   ],
   "source": [
    "plt.matshow(df.corr())\n",
    "plt.xticks(range(len(df.columns)), df.columns)\n",
    "plt.yticks(range(len(df.columns)), df.columns)\n",
    "plt.colorbar()\n",
    "plt.show()"
   ]
  },
  {
   "cell_type": "code",
   "execution_count": 37,
   "id": "occupational-jones",
   "metadata": {},
   "outputs": [
    {
     "name": "stdout",
     "output_type": "stream",
     "text": [
      "           empno    deptid    salary\n",
      "empno   1.000000  0.864882  0.322819\n",
      "deptid  0.864882  1.000000  0.613446\n",
      "salary  0.322819  0.613446  1.000000\n"
     ]
    }
   ],
   "source": [
    "print(df.corr(method=\"pearson\"))\n",
    "sns.heatmap(df.corr(method=\"pearson\"))\n",
    "plt.savefig(\"heatmap_pearson.png\")\n",
    "plt.clf()\n",
    "plt.close()"
   ]
  },
  {
   "cell_type": "code",
   "execution_count": 38,
   "id": "public-mountain",
   "metadata": {},
   "outputs": [
    {
     "data": {
      "text/plain": [
       "<AxesSubplot:>"
      ]
     },
     "execution_count": 38,
     "metadata": {},
     "output_type": "execute_result"
    },
    {
     "data": {
      "image/png": "[encoded data removed]",
      "text/plain": [
       "<Figure size 432x288 with 2 Axes>"
      ]
     },
     "metadata": {
      "needs_background": "light"
     },
     "output_type": "display_data"
    }
   ],
   "source": [
    "sns.heatmap(df.corr())"
   ]
  },
  {
   "cell_type": "markdown",
   "id": "dependent-restaurant",
   "metadata": {},
   "source": [
    "## Encoders"
   ]
  },
  {
   "cell_type": "code",
   "execution_count": 2,
   "id": "acknowledged-surge",
   "metadata": {},
   "outputs": [
    {
     "data": {
      "text/plain": [
       "['amsterdam', 'paris', 'tokyo']"
      ]
     },
     "execution_count": 2,
     "metadata": {},
     "output_type": "execute_result"
    }
   ],
   "source": [
    "#label encoder: encodes target labels with the value between 0 and n_classes-1\n",
    "from sklearn import preprocessing\n",
    "le = preprocessing.LabelEncoder()\n",
    "\n",
    "le.fit([\"paris\", \"paris\", \"tokyo\", \"amsterdam\"])\n",
    "\n",
    "list(le.classes_)"
   ]
  },
  {
   "cell_type": "code",
   "execution_count": 3,
   "id": "comprehensive-prison",
   "metadata": {},
   "outputs": [
    {
     "data": {
      "text/plain": [
       "array([2, 2, 1])"
      ]
     },
     "execution_count": 3,
     "metadata": {},
     "output_type": "execute_result"
    }
   ],
   "source": [
    "le.transform([\"tokyo\", \"tokyo\", \"paris\"])"
   ]
  },
  {
   "cell_type": "code",
   "execution_count": 4,
   "id": "hazardous-edgar",
   "metadata": {},
   "outputs": [
    {
     "data": {
      "text/plain": [
       "['paris', 'tokyo', 'amsterdam']"
      ]
     },
     "execution_count": 4,
     "metadata": {},
     "output_type": "execute_result"
    }
   ],
   "source": [
    "list(le.inverse_transform([1,2,0]))"
   ]
  },
  {
   "cell_type": "code",
   "execution_count": 26,
   "id": "acquired-advocacy",
   "metadata": {},
   "outputs": [],
   "source": [
    "#iris dataset\n",
    "df_iris = pd.read_csv('iris.csv')"
   ]
  },
  {
   "cell_type": "code",
   "execution_count": 27,
   "id": "occasional-dallas",
   "metadata": {},
   "outputs": [
    {
     "data": {
      "text/html": [
       "<div>\n",
       "<style scoped>\n",
       "    .dataframe tbody tr th:only-of-type {\n",
       "        vertical-align: middle;\n",
       "    }\n",
       "\n",
       "    .dataframe tbody tr th {\n",
       "        vertical-align: top;\n",
       "    }\n",
       "\n",
       "    .dataframe thead th {\n",
       "        text-align: right;\n",
       "    }\n",
       "</style>\n",
       "<table border=\"1\" class=\"dataframe\">\n",
       "  <thead>\n",
       "    <tr style=\"text-align: right;\">\n",
       "      <th></th>\n",
       "      <th>Id</th>\n",
       "      <th>SepalLengthCm</th>\n",
       "      <th>SepalWidthCm</th>\n",
       "      <th>PetalLengthCm</th>\n",
       "      <th>PetalWidthCm</th>\n",
       "      <th>Species</th>\n",
       "    </tr>\n",
       "  </thead>\n",
       "  <tbody>\n",
       "    <tr>\n",
       "      <th>0</th>\n",
       "      <td>1</td>\n",
       "      <td>5.1</td>\n",
       "      <td>3.5</td>\n",
       "      <td>1.4</td>\n",
       "      <td>0.2</td>\n",
       "      <td>Iris-setosa</td>\n",
       "    </tr>\n",
       "    <tr>\n",
       "      <th>1</th>\n",
       "      <td>2</td>\n",
       "      <td>4.9</td>\n",
       "      <td>3.0</td>\n",
       "      <td>1.4</td>\n",
       "      <td>0.2</td>\n",
       "      <td>Iris-setosa</td>\n",
       "    </tr>\n",
       "    <tr>\n",
       "      <th>2</th>\n",
       "      <td>3</td>\n",
       "      <td>4.7</td>\n",
       "      <td>3.2</td>\n",
       "      <td>1.3</td>\n",
       "      <td>0.2</td>\n",
       "      <td>Iris-setosa</td>\n",
       "    </tr>\n",
       "    <tr>\n",
       "      <th>3</th>\n",
       "      <td>4</td>\n",
       "      <td>4.6</td>\n",
       "      <td>3.1</td>\n",
       "      <td>1.5</td>\n",
       "      <td>0.2</td>\n",
       "      <td>Iris-setosa</td>\n",
       "    </tr>\n",
       "    <tr>\n",
       "      <th>4</th>\n",
       "      <td>5</td>\n",
       "      <td>5.0</td>\n",
       "      <td>3.6</td>\n",
       "      <td>1.4</td>\n",
       "      <td>0.2</td>\n",
       "      <td>Iris-setosa</td>\n",
       "    </tr>\n",
       "  </tbody>\n",
       "</table>\n",
       "</div>"
      ],
      "text/plain": [
       "   Id  SepalLengthCm  SepalWidthCm  PetalLengthCm  PetalWidthCm      Species\n",
       "0   1            5.1           3.5            1.4           0.2  Iris-setosa\n",
       "1   2            4.9           3.0            1.4           0.2  Iris-setosa\n",
       "2   3            4.7           3.2            1.3           0.2  Iris-setosa\n",
       "3   4            4.6           3.1            1.5           0.2  Iris-setosa\n",
       "4   5            5.0           3.6            1.4           0.2  Iris-setosa"
      ]
     },
     "execution_count": 27,
     "metadata": {},
     "output_type": "execute_result"
    }
   ],
   "source": [
    "df_iris.head()"
   ]
  },
  {
   "cell_type": "code",
   "execution_count": 28,
   "id": "super-morning",
   "metadata": {},
   "outputs": [
    {
     "data": {
      "text/plain": [
       "array(['Iris-setosa', 'Iris-versicolor', 'Iris-virginica'], dtype=object)"
      ]
     },
     "execution_count": 28,
     "metadata": {},
     "output_type": "execute_result"
    }
   ],
   "source": [
    "df_iris[\"Species\"].unique()"
   ]
  },
  {
   "cell_type": "code",
   "execution_count": 29,
   "id": "accurate-ready",
   "metadata": {},
   "outputs": [
    {
     "data": {
      "text/plain": [
       "array([0, 1, 2])"
      ]
     },
     "execution_count": 29,
     "metadata": {},
     "output_type": "execute_result"
    }
   ],
   "source": [
    "from sklearn import preprocessing\n",
    "label_encoder = preprocessing.LabelEncoder()\n",
    "\n",
    "df_iris['Species_encode'] = label_encoder.fit_transform(df_iris['Species'])\n",
    "le = label_encoder.fit_transform(df_iris['Species'])\n",
    "df_iris['Species_encode'].unique()"
   ]
  },
  {
   "cell_type": "code",
   "execution_count": 30,
   "id": "impressive-checklist",
   "metadata": {},
   "outputs": [
    {
     "data": {
      "text/html": [
       "<div>\n",
       "<style scoped>\n",
       "    .dataframe tbody tr th:only-of-type {\n",
       "        vertical-align: middle;\n",
       "    }\n",
       "\n",
       "    .dataframe tbody tr th {\n",
       "        vertical-align: top;\n",
       "    }\n",
       "\n",
       "    .dataframe thead th {\n",
       "        text-align: right;\n",
       "    }\n",
       "</style>\n",
       "<table border=\"1\" class=\"dataframe\">\n",
       "  <thead>\n",
       "    <tr style=\"text-align: right;\">\n",
       "      <th></th>\n",
       "      <th>Id</th>\n",
       "      <th>SepalLengthCm</th>\n",
       "      <th>SepalWidthCm</th>\n",
       "      <th>PetalLengthCm</th>\n",
       "      <th>PetalWidthCm</th>\n",
       "      <th>Species</th>\n",
       "      <th>Species_encode</th>\n",
       "    </tr>\n",
       "  </thead>\n",
       "  <tbody>\n",
       "    <tr>\n",
       "      <th>0</th>\n",
       "      <td>1</td>\n",
       "      <td>5.1</td>\n",
       "      <td>3.5</td>\n",
       "      <td>1.4</td>\n",
       "      <td>0.2</td>\n",
       "      <td>Iris-setosa</td>\n",
       "      <td>0</td>\n",
       "    </tr>\n",
       "    <tr>\n",
       "      <th>1</th>\n",
       "      <td>2</td>\n",
       "      <td>4.9</td>\n",
       "      <td>3.0</td>\n",
       "      <td>1.4</td>\n",
       "      <td>0.2</td>\n",
       "      <td>Iris-setosa</td>\n",
       "      <td>0</td>\n",
       "    </tr>\n",
       "    <tr>\n",
       "      <th>2</th>\n",
       "      <td>3</td>\n",
       "      <td>4.7</td>\n",
       "      <td>3.2</td>\n",
       "      <td>1.3</td>\n",
       "      <td>0.2</td>\n",
       "      <td>Iris-setosa</td>\n",
       "      <td>0</td>\n",
       "    </tr>\n",
       "    <tr>\n",
       "      <th>3</th>\n",
       "      <td>4</td>\n",
       "      <td>4.6</td>\n",
       "      <td>3.1</td>\n",
       "      <td>1.5</td>\n",
       "      <td>0.2</td>\n",
       "      <td>Iris-setosa</td>\n",
       "      <td>0</td>\n",
       "    </tr>\n",
       "    <tr>\n",
       "      <th>4</th>\n",
       "      <td>5</td>\n",
       "      <td>5.0</td>\n",
       "      <td>3.6</td>\n",
       "      <td>1.4</td>\n",
       "      <td>0.2</td>\n",
       "      <td>Iris-setosa</td>\n",
       "      <td>0</td>\n",
       "    </tr>\n",
       "  </tbody>\n",
       "</table>\n",
       "</div>"
      ],
      "text/plain": [
       "   Id  SepalLengthCm  SepalWidthCm  PetalLengthCm  PetalWidthCm      Species  \\\n",
       "0   1            5.1           3.5            1.4           0.2  Iris-setosa   \n",
       "1   2            4.9           3.0            1.4           0.2  Iris-setosa   \n",
       "2   3            4.7           3.2            1.3           0.2  Iris-setosa   \n",
       "3   4            4.6           3.1            1.5           0.2  Iris-setosa   \n",
       "4   5            5.0           3.6            1.4           0.2  Iris-setosa   \n",
       "\n",
       "   Species_encode  \n",
       "0               0  \n",
       "1               0  \n",
       "2               0  \n",
       "3               0  \n",
       "4               0  "
      ]
     },
     "execution_count": 30,
     "metadata": {},
     "output_type": "execute_result"
    }
   ],
   "source": [
    "df_iris.head()"
   ]
  },
  {
   "cell_type": "code",
   "execution_count": 35,
   "id": "engaging-senior",
   "metadata": {},
   "outputs": [
    {
     "data": {
      "text/plain": [
       "[array(['Female', 'Male'], dtype=object), array([1, 2, 3], dtype=object)]"
      ]
     },
     "execution_count": 35,
     "metadata": {},
     "output_type": "execute_result"
    }
   ],
   "source": [
    "#onehot encoder\n",
    "from sklearn.preprocessing import OneHotEncoder\n",
    "enc = OneHotEncoder()\n",
    "\n",
    "X = [['Male', 1], ['Female', 3], ['Female', 2]]\n",
    "enc.fit(X)\n",
    "\n",
    "enc.categories_"
   ]
  },
  {
   "cell_type": "code",
   "execution_count": 36,
   "id": "nasty-shadow",
   "metadata": {},
   "outputs": [
    {
     "name": "stdout",
     "output_type": "stream",
     "text": [
      "  (0, 1)\t1.0\n",
      "  (0, 2)\t1.0\n",
      "  (1, 0)\t1.0\n",
      "  (1, 4)\t1.0\n",
      "  (2, 0)\t1.0\n",
      "  (2, 3)\t1.0\n"
     ]
    }
   ],
   "source": [
    "print(enc.transform(X))"
   ]
  },
  {
   "cell_type": "code",
   "execution_count": 3,
   "id": "understanding-prairie",
   "metadata": {},
   "outputs": [
    {
     "name": "stdout",
     "output_type": "stream",
     "text": [
      "['cold', 'cold', 'warm', 'cold', 'hot', 'warm', 'cold', 'warm', 'hot']\n"
     ]
    }
   ],
   "source": [
    "from numpy import array, argmax\n",
    "from sklearn.preprocessing import LabelEncoder, OneHotEncoder\n",
    "\n",
    "data = ['cold', 'cold', 'warm', 'cold', 'hot', 'warm', 'cold', 'warm', 'hot']\n",
    "\n",
    "values = data\n",
    "print(values)"
   ]
  },
  {
   "cell_type": "code",
   "execution_count": 8,
   "id": "found-consumer",
   "metadata": {},
   "outputs": [],
   "source": [
    "one_enc = OneHotEncoder()\n",
    "one_enc = OneHotEncoder(sparse = False)\n",
    "\n",
    "# integer_encoded = integer_encoded.reshape(len(integer_encoded), 1)"
   ]
  },
  {
   "cell_type": "code",
   "execution_count": 10,
   "id": "informal-reading",
   "metadata": {},
   "outputs": [],
   "source": [
    "#feature engineering to handle dictionary data\n",
    "\n",
    "data = [{'price':850000, 'rooms':4, 'neighborhood':'Queen Anne'},\n",
    "       {'price':700000, 'rooms':3, 'neighborhood':'Fremont'},\n",
    "       {'price':650000, 'rooms':3, 'neighborhood':'Wallingford'},\n",
    "       {'price':600000, 'rooms':2, 'neighborhood':'Fremont'},]"
   ]
  },
  {
   "cell_type": "code",
   "execution_count": 16,
   "id": "impressed-comparison",
   "metadata": {},
   "outputs": [
    {
     "data": {
      "text/plain": [
       "array([[     0,      1,      0, 850000,      4],\n",
       "       [     1,      0,      0, 700000,      3],\n",
       "       [     0,      0,      1, 650000,      3],\n",
       "       [     1,      0,      0, 600000,      2]])"
      ]
     },
     "execution_count": 16,
     "metadata": {},
     "output_type": "execute_result"
    }
   ],
   "source": [
    "from sklearn.feature_extraction import DictVectorizer\n",
    "vec = DictVectorizer(sparse = False, dtype = int)\n",
    "vec.fit_transform(data)"
   ]
  },
  {
   "cell_type": "code",
   "execution_count": 15,
   "id": "swedish-interval",
   "metadata": {},
   "outputs": [
    {
     "data": {
      "text/plain": [
       "['neighborhood=Fremont',\n",
       " 'neighborhood=Queen Anne',\n",
       " 'neighborhood=Wallingford',\n",
       " 'price',\n",
       " 'rooms']"
      ]
     },
     "execution_count": 15,
     "metadata": {},
     "output_type": "execute_result"
    }
   ],
   "source": [
    "vec.get_feature_names()"
   ]
  },
  {
   "cell_type": "code",
   "execution_count": 18,
   "id": "spectacular-vampire",
   "metadata": {},
   "outputs": [
    {
     "name": "stdout",
     "output_type": "stream",
     "text": [
      "  (0, 1)\t1\n",
      "  (0, 3)\t850000\n",
      "  (0, 4)\t4\n",
      "  (1, 0)\t1\n",
      "  (1, 3)\t700000\n",
      "  (1, 4)\t3\n",
      "  (2, 2)\t1\n",
      "  (2, 3)\t650000\n",
      "  (2, 4)\t3\n",
      "  (3, 0)\t1\n",
      "  (3, 3)\t600000\n",
      "  (3, 4)\t2\n"
     ]
    }
   ],
   "source": [
    "vec = DictVectorizer(sparse = True, dtype = int)\n",
    "d = vec.fit_transform(data)\n",
    "print(d)"
   ]
  },
  {
   "cell_type": "code",
   "execution_count": 31,
   "id": "lesser-tennessee",
   "metadata": {},
   "outputs": [],
   "source": [
    "# sample = ['problem of evil  problem evil queen horizon problem']\n",
    "sample = ['Jupyter Notebook is a great programming environment and often the most popular choice for data scientists or data analysts that are coding in python. Unfortunately, its default settings do not allow the level of customization that you have with standard programming environments such as PyCharm or similar tools.Jupyter Notebooks themes are trying to diminish this gap and allow you to make the notebook a bit prettier and also more functional using the themes. In this article, I will walk you through the installation process of Jupyter Notebook themes and show you some of their most important features.']"
   ]
  },
  {
   "cell_type": "code",
   "execution_count": 32,
   "id": "systematic-electronics",
   "metadata": {},
   "outputs": [],
   "source": [
    "from sklearn.feature_extraction.text import CountVectorizer\n",
    "vec = CountVectorizer()\n",
    "X = vec.fit_transform(sample)"
   ]
  },
  {
   "cell_type": "code",
   "execution_count": 33,
   "id": "abroad-argument",
   "metadata": {},
   "outputs": [
    {
     "data": {
      "text/html": [
       "<div>\n",
       "<style scoped>\n",
       "    .dataframe tbody tr th:only-of-type {\n",
       "        vertical-align: middle;\n",
       "    }\n",
       "\n",
       "    .dataframe tbody tr th {\n",
       "        vertical-align: top;\n",
       "    }\n",
       "\n",
       "    .dataframe thead th {\n",
       "        text-align: right;\n",
       "    }\n",
       "</style>\n",
       "<table border=\"1\" class=\"dataframe\">\n",
       "  <thead>\n",
       "    <tr style=\"text-align: right;\">\n",
       "      <th></th>\n",
       "      <th>allow</th>\n",
       "      <th>also</th>\n",
       "      <th>analysts</th>\n",
       "      <th>and</th>\n",
       "      <th>are</th>\n",
       "      <th>article</th>\n",
       "      <th>as</th>\n",
       "      <th>bit</th>\n",
       "      <th>choice</th>\n",
       "      <th>coding</th>\n",
       "      <th>...</th>\n",
       "      <th>through</th>\n",
       "      <th>to</th>\n",
       "      <th>tools</th>\n",
       "      <th>trying</th>\n",
       "      <th>unfortunately</th>\n",
       "      <th>using</th>\n",
       "      <th>walk</th>\n",
       "      <th>will</th>\n",
       "      <th>with</th>\n",
       "      <th>you</th>\n",
       "    </tr>\n",
       "  </thead>\n",
       "  <tbody>\n",
       "    <tr>\n",
       "      <th>0</th>\n",
       "      <td>2</td>\n",
       "      <td>1</td>\n",
       "      <td>1</td>\n",
       "      <td>4</td>\n",
       "      <td>2</td>\n",
       "      <td>1</td>\n",
       "      <td>1</td>\n",
       "      <td>1</td>\n",
       "      <td>1</td>\n",
       "      <td>1</td>\n",
       "      <td>...</td>\n",
       "      <td>1</td>\n",
       "      <td>2</td>\n",
       "      <td>1</td>\n",
       "      <td>1</td>\n",
       "      <td>1</td>\n",
       "      <td>1</td>\n",
       "      <td>1</td>\n",
       "      <td>1</td>\n",
       "      <td>1</td>\n",
       "      <td>4</td>\n",
       "    </tr>\n",
       "  </tbody>\n",
       "</table>\n",
       "<p>1 rows × 67 columns</p>\n",
       "</div>"
      ],
      "text/plain": [
       "   allow  also  analysts  and  are  article  as  bit  choice  coding  ...  \\\n",
       "0      2     1         1    4    2        1   1    1       1       1  ...   \n",
       "\n",
       "   through  to  tools  trying  unfortunately  using  walk  will  with  you  \n",
       "0        1   2      1       1              1      1     1     1     1    4  \n",
       "\n",
       "[1 rows x 67 columns]"
      ]
     },
     "execution_count": 33,
     "metadata": {},
     "output_type": "execute_result"
    }
   ],
   "source": [
    "pd.DataFrame(X.toarray(), columns = vec.get_feature_names())"
   ]
  },
  {
   "cell_type": "code",
   "execution_count": 34,
   "id": "square-romantic",
   "metadata": {},
   "outputs": [
    {
     "data": {
      "text/html": [
       "<div>\n",
       "<style scoped>\n",
       "    .dataframe tbody tr th:only-of-type {\n",
       "        vertical-align: middle;\n",
       "    }\n",
       "\n",
       "    .dataframe tbody tr th {\n",
       "        vertical-align: top;\n",
       "    }\n",
       "\n",
       "    .dataframe thead th {\n",
       "        text-align: right;\n",
       "    }\n",
       "</style>\n",
       "<table border=\"1\" class=\"dataframe\">\n",
       "  <thead>\n",
       "    <tr style=\"text-align: right;\">\n",
       "      <th></th>\n",
       "      <th>allow</th>\n",
       "      <th>also</th>\n",
       "      <th>analysts</th>\n",
       "      <th>and</th>\n",
       "      <th>are</th>\n",
       "      <th>article</th>\n",
       "      <th>as</th>\n",
       "      <th>bit</th>\n",
       "      <th>choice</th>\n",
       "      <th>coding</th>\n",
       "      <th>...</th>\n",
       "      <th>through</th>\n",
       "      <th>to</th>\n",
       "      <th>tools</th>\n",
       "      <th>trying</th>\n",
       "      <th>unfortunately</th>\n",
       "      <th>using</th>\n",
       "      <th>walk</th>\n",
       "      <th>will</th>\n",
       "      <th>with</th>\n",
       "      <th>you</th>\n",
       "    </tr>\n",
       "  </thead>\n",
       "  <tbody>\n",
       "    <tr>\n",
       "      <th>0</th>\n",
       "      <td>0.147844</td>\n",
       "      <td>0.073922</td>\n",
       "      <td>0.073922</td>\n",
       "      <td>0.295689</td>\n",
       "      <td>0.147844</td>\n",
       "      <td>0.073922</td>\n",
       "      <td>0.073922</td>\n",
       "      <td>0.073922</td>\n",
       "      <td>0.073922</td>\n",
       "      <td>0.073922</td>\n",
       "      <td>...</td>\n",
       "      <td>0.073922</td>\n",
       "      <td>0.147844</td>\n",
       "      <td>0.073922</td>\n",
       "      <td>0.073922</td>\n",
       "      <td>0.073922</td>\n",
       "      <td>0.073922</td>\n",
       "      <td>0.073922</td>\n",
       "      <td>0.073922</td>\n",
       "      <td>0.073922</td>\n",
       "      <td>0.295689</td>\n",
       "    </tr>\n",
       "  </tbody>\n",
       "</table>\n",
       "<p>1 rows × 67 columns</p>\n",
       "</div>"
      ],
      "text/plain": [
       "      allow      also  analysts       and       are   article        as  \\\n",
       "0  0.147844  0.073922  0.073922  0.295689  0.147844  0.073922  0.073922   \n",
       "\n",
       "        bit    choice    coding  ...   through        to     tools    trying  \\\n",
       "0  0.073922  0.073922  0.073922  ...  0.073922  0.147844  0.073922  0.073922   \n",
       "\n",
       "   unfortunately     using      walk      will      with       you  \n",
       "0       0.073922  0.073922  0.073922  0.073922  0.073922  0.295689  \n",
       "\n",
       "[1 rows x 67 columns]"
      ]
     },
     "execution_count": 34,
     "metadata": {},
     "output_type": "execute_result"
    }
   ],
   "source": [
    "from sklearn.feature_extraction.text import TfidfVectorizer\n",
    "vec = TfidfVectorizer()\n",
    "X = vec.fit_transform(sample)\n",
    "pd.DataFrame(X.toarray(), columns = vec.get_feature_names())"
   ]
  },
  {
   "cell_type": "code",
   "execution_count": null,
   "id": "editorial-proposal",
   "metadata": {},
   "outputs": [],
   "source": []
  }
 ],
 "metadata": {
  "kernelspec": {
   "display_name": "Python 3",
   "language": "python",
   "name": "python3"
  },
  "language_info": {
   "codemirror_mode": {
    "name": "ipython",
    "version": 3
   },
   "file_extension": ".py",
   "mimetype": "text/x-python",
   "name": "python",
   "nbconvert_exporter": "python",
   "pygments_lexer": "ipython3",
   "version": "3.9.4"
  }
 },
 "nbformat": 4,
 "nbformat_minor": 5
}
