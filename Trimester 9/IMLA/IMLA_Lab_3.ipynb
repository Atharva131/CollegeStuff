{
  "nbformat": 4,
  "nbformat_minor": 0,
  "metadata": {
    "colab": {
      "name": "IMLA Lab 3.ipynb",
      "provenance": []
    },
    "kernelspec": {
      "name": "python3",
      "display_name": "Python 3"
    },
    "language_info": {
      "name": "python"
    }
  },
  "cells": [
    {
      "cell_type": "code",
      "metadata": {
        "id": "-YX5ym_um9HT"
      },
      "source": [
        "import numpy as np\n",
        "import pandas as pd\n",
        "import matplotlib.pyplot as plt"
      ],
      "execution_count": null,
      "outputs": []
    },
    {
      "cell_type": "code",
      "metadata": {
        "id": "p5oAsfto2_X3",
        "colab": {
          "base_uri": "https://localhost:8080/",
          "height": 235
        },
        "outputId": "a5ca9adf-8d5d-41d6-f3d9-dbbeffc6b434"
      },
      "source": [
        "data1 = {'X':['2','4','4','4','6','6',],\n",
        "        'Y':['4','6','4','3','4','3',],\n",
        "        'Class':['N','N','P','N','N','P',]}\n",
        "\n",
        "ds1 = pd.DataFrame.from_dict(data1)\n",
        "ds1"
      ],
      "execution_count": null,
      "outputs": [
        {
          "output_type": "execute_result",
          "data": {
            "text/html": [
              "<div>\n",
              "<style scoped>\n",
              "    .dataframe tbody tr th:only-of-type {\n",
              "        vertical-align: middle;\n",
              "    }\n",
              "\n",
              "    .dataframe tbody tr th {\n",
              "        vertical-align: top;\n",
              "    }\n",
              "\n",
              "    .dataframe thead th {\n",
              "        text-align: right;\n",
              "    }\n",
              "</style>\n",
              "<table border=\"1\" class=\"dataframe\">\n",
              "  <thead>\n",
              "    <tr style=\"text-align: right;\">\n",
              "      <th></th>\n",
              "      <th>X</th>\n",
              "      <th>Y</th>\n",
              "      <th>Class</th>\n",
              "    </tr>\n",
              "  </thead>\n",
              "  <tbody>\n",
              "    <tr>\n",
              "      <th>0</th>\n",
              "      <td>2</td>\n",
              "      <td>4</td>\n",
              "      <td>N</td>\n",
              "    </tr>\n",
              "    <tr>\n",
              "      <th>1</th>\n",
              "      <td>4</td>\n",
              "      <td>6</td>\n",
              "      <td>N</td>\n",
              "    </tr>\n",
              "    <tr>\n",
              "      <th>2</th>\n",
              "      <td>4</td>\n",
              "      <td>4</td>\n",
              "      <td>P</td>\n",
              "    </tr>\n",
              "    <tr>\n",
              "      <th>3</th>\n",
              "      <td>4</td>\n",
              "      <td>3</td>\n",
              "      <td>N</td>\n",
              "    </tr>\n",
              "    <tr>\n",
              "      <th>4</th>\n",
              "      <td>6</td>\n",
              "      <td>4</td>\n",
              "      <td>N</td>\n",
              "    </tr>\n",
              "    <tr>\n",
              "      <th>5</th>\n",
              "      <td>6</td>\n",
              "      <td>3</td>\n",
              "      <td>P</td>\n",
              "    </tr>\n",
              "  </tbody>\n",
              "</table>\n",
              "</div>"
            ],
            "text/plain": [
              "   X  Y Class\n",
              "0  2  4     N\n",
              "1  4  6     N\n",
              "2  4  4     P\n",
              "3  4  3     N\n",
              "4  6  4     N\n",
              "5  6  3     P"
            ]
          },
          "metadata": {
            "tags": []
          },
          "execution_count": 10
        }
      ]
    },
    {
      "cell_type": "code",
      "metadata": {
        "colab": {
          "base_uri": "https://localhost:8080/"
        },
        "id": "F2Uwppx25vT9",
        "outputId": "6de5d96b-40cb-4b8f-d942-6e49ba1f3bab"
      },
      "source": [
        "x1 = x = ds1.iloc[:, :-1].values\n",
        "y1 = ds1.iloc[:, 2:3].values \n",
        "print(x1)"
      ],
      "execution_count": null,
      "outputs": [
        {
          "output_type": "stream",
          "text": [
            "[['2' '4']\n",
            " ['4' '6']\n",
            " ['4' '4']\n",
            " ['4' '3']\n",
            " ['6' '4']\n",
            " ['6' '3']]\n"
          ],
          "name": "stdout"
        }
      ]
    },
    {
      "cell_type": "code",
      "metadata": {
        "colab": {
          "base_uri": "https://localhost:8080/"
        },
        "id": "_6VaoG925dTY",
        "outputId": "214f7115-156f-4478-81d8-9e35b0adc648"
      },
      "source": [
        "from sklearn.neighbors import KNeighborsClassifier\n",
        "\n",
        "classifier1 = KNeighborsClassifier(n_neighbors = 3)\n",
        "classifier1.fit(x1, y1)"
      ],
      "execution_count": null,
      "outputs": [
        {
          "output_type": "stream",
          "text": [
            "/usr/local/lib/python3.7/dist-packages/ipykernel_launcher.py:4: DataConversionWarning: A column-vector y was passed when a 1d array was expected. Please change the shape of y to (n_samples, ), for example using ravel().\n",
            "  after removing the cwd from sys.path.\n"
          ],
          "name": "stderr"
        },
        {
          "output_type": "execute_result",
          "data": {
            "text/plain": [
              "KNeighborsClassifier(algorithm='auto', leaf_size=30, metric='minkowski',\n",
              "                     metric_params=None, n_jobs=None, n_neighbors=3, p=2,\n",
              "                     weights='uniform')"
            ]
          },
          "metadata": {
            "tags": []
          },
          "execution_count": 20
        }
      ]
    },
    {
      "cell_type": "code",
      "metadata": {
        "colab": {
          "base_uri": "https://localhost:8080/"
        },
        "id": "L_JzpapI6TnO",
        "outputId": "e526fd33-950b-4ed2-f60d-dedf4be38428"
      },
      "source": [
        "y_pred_class = classifier1.predict([[6,6]])\n",
        "print('The predicted class of (6,6) : ',y_pred_class)"
      ],
      "execution_count": null,
      "outputs": [
        {
          "output_type": "stream",
          "text": [
            "The predicted class of (6,6) :  ['N']\n"
          ],
          "name": "stdout"
        }
      ]
    },
    {
      "cell_type": "code",
      "metadata": {
        "colab": {
          "base_uri": "https://localhost:8080/",
          "height": 359
        },
        "id": "FKwYEpYP-MJV",
        "outputId": "37388d85-1586-4cb0-b600-25401030af35"
      },
      "source": [
        "data2 = {'Height':['5','5.11','5.6','5.9','4.8','5.8','5.3','5.8','5.5','5.6'],\n",
        "        'Age':['45','26','30','34','40','36','19','28','23','32'],\n",
        "        'Weight':['77','47','55','59','72','60','40','60','45','58']}\n",
        "\n",
        "ds2 = pd.DataFrame.from_dict(data2)\n",
        "ds2"
      ],
      "execution_count": null,
      "outputs": [
        {
          "output_type": "execute_result",
          "data": {
            "text/html": [
              "<div>\n",
              "<style scoped>\n",
              "    .dataframe tbody tr th:only-of-type {\n",
              "        vertical-align: middle;\n",
              "    }\n",
              "\n",
              "    .dataframe tbody tr th {\n",
              "        vertical-align: top;\n",
              "    }\n",
              "\n",
              "    .dataframe thead th {\n",
              "        text-align: right;\n",
              "    }\n",
              "</style>\n",
              "<table border=\"1\" class=\"dataframe\">\n",
              "  <thead>\n",
              "    <tr style=\"text-align: right;\">\n",
              "      <th></th>\n",
              "      <th>Height</th>\n",
              "      <th>Age</th>\n",
              "      <th>Weight</th>\n",
              "    </tr>\n",
              "  </thead>\n",
              "  <tbody>\n",
              "    <tr>\n",
              "      <th>0</th>\n",
              "      <td>5</td>\n",
              "      <td>45</td>\n",
              "      <td>77</td>\n",
              "    </tr>\n",
              "    <tr>\n",
              "      <th>1</th>\n",
              "      <td>5.11</td>\n",
              "      <td>26</td>\n",
              "      <td>47</td>\n",
              "    </tr>\n",
              "    <tr>\n",
              "      <th>2</th>\n",
              "      <td>5.6</td>\n",
              "      <td>30</td>\n",
              "      <td>55</td>\n",
              "    </tr>\n",
              "    <tr>\n",
              "      <th>3</th>\n",
              "      <td>5.9</td>\n",
              "      <td>34</td>\n",
              "      <td>59</td>\n",
              "    </tr>\n",
              "    <tr>\n",
              "      <th>4</th>\n",
              "      <td>4.8</td>\n",
              "      <td>40</td>\n",
              "      <td>72</td>\n",
              "    </tr>\n",
              "    <tr>\n",
              "      <th>5</th>\n",
              "      <td>5.8</td>\n",
              "      <td>36</td>\n",
              "      <td>60</td>\n",
              "    </tr>\n",
              "    <tr>\n",
              "      <th>6</th>\n",
              "      <td>5.3</td>\n",
              "      <td>19</td>\n",
              "      <td>40</td>\n",
              "    </tr>\n",
              "    <tr>\n",
              "      <th>7</th>\n",
              "      <td>5.8</td>\n",
              "      <td>28</td>\n",
              "      <td>60</td>\n",
              "    </tr>\n",
              "    <tr>\n",
              "      <th>8</th>\n",
              "      <td>5.5</td>\n",
              "      <td>23</td>\n",
              "      <td>45</td>\n",
              "    </tr>\n",
              "    <tr>\n",
              "      <th>9</th>\n",
              "      <td>5.6</td>\n",
              "      <td>32</td>\n",
              "      <td>58</td>\n",
              "    </tr>\n",
              "  </tbody>\n",
              "</table>\n",
              "</div>"
            ],
            "text/plain": [
              "  Height Age Weight\n",
              "0      5  45     77\n",
              "1   5.11  26     47\n",
              "2    5.6  30     55\n",
              "3    5.9  34     59\n",
              "4    4.8  40     72\n",
              "5    5.8  36     60\n",
              "6    5.3  19     40\n",
              "7    5.8  28     60\n",
              "8    5.5  23     45\n",
              "9    5.6  32     58"
            ]
          },
          "metadata": {
            "tags": []
          },
          "execution_count": 25
        }
      ]
    },
    {
      "cell_type": "code",
      "metadata": {
        "colab": {
          "base_uri": "https://localhost:8080/"
        },
        "id": "uMJbN5WHHAFc",
        "outputId": "e1425389-b0c9-4be9-f8f3-4269019e5dca"
      },
      "source": [
        "x2 = x = ds2.iloc[:, :-1].values\n",
        "y2 = ds2.iloc[:, 2:3].values \n",
        "print(x2)"
      ],
      "execution_count": null,
      "outputs": [
        {
          "output_type": "stream",
          "text": [
            "[['5' '45']\n",
            " ['5.11' '26']\n",
            " ['5.6' '30']\n",
            " ['5.9' '34']\n",
            " ['4.8' '40']\n",
            " ['5.8' '36']\n",
            " ['5.3' '19']\n",
            " ['5.8' '28']\n",
            " ['5.5' '23']\n",
            " ['5.6' '32']]\n"
          ],
          "name": "stdout"
        }
      ]
    },
    {
      "cell_type": "code",
      "metadata": {
        "colab": {
          "base_uri": "https://localhost:8080/"
        },
        "id": "_k84LKtQHSqu",
        "outputId": "436eab04-4651-4837-f759-e5c9d69b9d94"
      },
      "source": [
        "from sklearn.neighbors import KNeighborsClassifier\n",
        "\n",
        "classifier_3 = KNeighborsClassifier(n_neighbors = 3)\n",
        "classifier_3.fit(x2, y2)\n",
        "\n",
        "classifier_4 = KNeighborsClassifier(n_neighbors = 4)\n",
        "classifier_4.fit(x2, y2)\n",
        "\n",
        "classifier_5 = KNeighborsClassifier(n_neighbors = 5)\n",
        "classifier_5.fit(x2, y2)"
      ],
      "execution_count": null,
      "outputs": [
        {
          "output_type": "stream",
          "text": [
            "/usr/local/lib/python3.7/dist-packages/ipykernel_launcher.py:4: DataConversionWarning: A column-vector y was passed when a 1d array was expected. Please change the shape of y to (n_samples, ), for example using ravel().\n",
            "  after removing the cwd from sys.path.\n",
            "/usr/local/lib/python3.7/dist-packages/ipykernel_launcher.py:7: DataConversionWarning: A column-vector y was passed when a 1d array was expected. Please change the shape of y to (n_samples, ), for example using ravel().\n",
            "  import sys\n",
            "/usr/local/lib/python3.7/dist-packages/ipykernel_launcher.py:10: DataConversionWarning: A column-vector y was passed when a 1d array was expected. Please change the shape of y to (n_samples, ), for example using ravel().\n",
            "  # Remove the CWD from sys.path while we load stuff.\n"
          ],
          "name": "stderr"
        },
        {
          "output_type": "execute_result",
          "data": {
            "text/plain": [
              "KNeighborsClassifier(algorithm='auto', leaf_size=30, metric='minkowski',\n",
              "                     metric_params=None, n_jobs=None, n_neighbors=5, p=2,\n",
              "                     weights='uniform')"
            ]
          },
          "metadata": {
            "tags": []
          },
          "execution_count": 27
        }
      ]
    },
    {
      "cell_type": "code",
      "metadata": {
        "colab": {
          "base_uri": "https://localhost:8080/"
        },
        "id": "wqbl44doI_e1",
        "outputId": "5cd8ebf2-73be-4c85-8810-3bace4331159"
      },
      "source": [
        "y_pred_3 = classifier_3.predict([[5.50,26]])\n",
        "print('The predicted Weight of (5.50,26) : ',y_pred_3)"
      ],
      "execution_count": null,
      "outputs": [
        {
          "output_type": "stream",
          "text": [
            "The predicted Weight of (5.50,26) :  ['45']\n"
          ],
          "name": "stdout"
        }
      ]
    },
    {
      "cell_type": "code",
      "metadata": {
        "colab": {
          "base_uri": "https://localhost:8080/"
        },
        "id": "qRxhrve1JU8V",
        "outputId": "d8995fc0-3ef0-478c-e1f9-4d97efdd404f"
      },
      "source": [
        "y_pred_4 = classifier_4.predict([[5.50,26]])\n",
        "print('The predicted Weight of (5.50,26) : ',y_pred_4)"
      ],
      "execution_count": null,
      "outputs": [
        {
          "output_type": "stream",
          "text": [
            "The predicted Weight of (5.50,26) :  ['45']\n"
          ],
          "name": "stdout"
        }
      ]
    },
    {
      "cell_type": "code",
      "metadata": {
        "id": "sH4m405dJfY4",
        "colab": {
          "base_uri": "https://localhost:8080/"
        },
        "outputId": "7e199f09-22bb-4460-cb95-903e874a841e"
      },
      "source": [
        "y_pred_5 = classifier_5.predict([[5.50,26]])\n",
        "print('The predicted Weight of (5.50,26) : ',y_pred_5)"
      ],
      "execution_count": null,
      "outputs": [
        {
          "output_type": "stream",
          "text": [
            "The predicted Weight of (5.50,26) :  ['45']\n"
          ],
          "name": "stdout"
        }
      ]
    }
  ]
}