{
  "nbformat": 4,
  "nbformat_minor": 0,
  "metadata": {
    "kernelspec": {
      "display_name": "Python 3",
      "language": "python",
      "name": "python3"
    },
    "language_info": {
      "codemirror_mode": {
        "name": "ipython",
        "version": 3
      },
      "file_extension": ".py",
      "mimetype": "text/x-python",
      "name": "python",
      "nbconvert_exporter": "python",
      "pygments_lexer": "ipython3",
      "version": "3.8.5"
    },
    "colab": {
      "name": "1032180772_IMLA Lab Ass-6.ipynb",
      "provenance": []
    }
  },
  "cells": [
    {
      "cell_type": "markdown",
      "metadata": {
        "id": "P_sxeLLQiaJQ"
      },
      "source": [
        "## PE29 Vasu Kalariya\n",
        "## IMLA Lab Assi 6"
      ]
    },
    {
      "cell_type": "code",
      "metadata": {
        "id": "icFyyfhog6zc"
      },
      "source": [
        "from sklearn.ensemble import AdaBoostClassifier\n",
        "from sklearn import datasets"
      ],
      "execution_count": 1,
      "outputs": []
    },
    {
      "cell_type": "code",
      "metadata": {
        "id": "m1aXZBWJg6zd"
      },
      "source": [
        "iris = datasets.load_iris()\n",
        "X = iris.data\n",
        "y = iris.target "
      ],
      "execution_count": 2,
      "outputs": []
    },
    {
      "cell_type": "markdown",
      "metadata": {
        "id": "0diFlwYRg6zd"
      },
      "source": [
        "Training dataset on AdaBosstClassifier model"
      ]
    },
    {
      "cell_type": "code",
      "metadata": {
        "id": "H1Q1wy6Xg6ze"
      },
      "source": [
        "abc = AdaBoostClassifier(n_estimators=50)\n",
        "model = abc.fit(X, y)\n",
        "y_pred = model.predict(X)"
      ],
      "execution_count": 3,
      "outputs": []
    },
    {
      "cell_type": "code",
      "metadata": {
        "colab": {
          "base_uri": "https://localhost:8080/"
        },
        "id": "uRZiwg5Ng6ze",
        "outputId": "6a7370ac-8cda-4c2c-d5cc-63afc805095c"
      },
      "source": [
        "from sklearn.metrics import accuracy_score\n",
        "print(\"Accuracy:\",accuracy_score(y, y_pred))"
      ],
      "execution_count": 4,
      "outputs": [
        {
          "output_type": "stream",
          "text": [
            "Accuracy: 0.96\n"
          ],
          "name": "stdout"
        }
      ]
    },
    {
      "cell_type": "markdown",
      "metadata": {
        "id": "BQEUYvg3g6zf"
      },
      "source": [
        "Using AdaBoostClassifier with SVC "
      ]
    },
    {
      "cell_type": "code",
      "metadata": {
        "id": "mMIf-z3og6zf"
      },
      "source": [
        "from sklearn.ensemble import AdaBoostClassifier\n",
        "from sklearn.svm import SVC"
      ],
      "execution_count": 5,
      "outputs": []
    },
    {
      "cell_type": "markdown",
      "metadata": {
        "id": "vmfFtiDHg6zg"
      },
      "source": [
        "Training on AdaBoostClassifier along with SVC"
      ]
    },
    {
      "cell_type": "code",
      "metadata": {
        "id": "yKcZLx0ng6zg"
      },
      "source": [
        "svc = SVC(probability=True, kernel='linear')\n",
        "abc = AdaBoostClassifier(n_estimators=50, base_estimator=svc)\n",
        "model = abc.fit(X, y)"
      ],
      "execution_count": 6,
      "outputs": []
    },
    {
      "cell_type": "markdown",
      "metadata": {
        "id": "EISwyav7g6zg"
      },
      "source": [
        "Prediction"
      ]
    },
    {
      "cell_type": "code",
      "metadata": {
        "id": "CvZIICzKg6zh"
      },
      "source": [
        "y_pred = model.predict(X)"
      ],
      "execution_count": 7,
      "outputs": []
    },
    {
      "cell_type": "markdown",
      "metadata": {
        "id": "j4M8Vgr9g6zh"
      },
      "source": [
        "Accuracy"
      ]
    },
    {
      "cell_type": "code",
      "metadata": {
        "colab": {
          "base_uri": "https://localhost:8080/"
        },
        "id": "aS0QkG1_g6zh",
        "outputId": "3b260235-498e-4254-f473-3fb7deb047ae"
      },
      "source": [
        "from sklearn.metrics import accuracy_score\n",
        "print(\"Accuracy:\",accuracy_score(y, y_pred))"
      ],
      "execution_count": 8,
      "outputs": [
        {
          "output_type": "stream",
          "text": [
            "Accuracy: 0.9866666666666667\n"
          ],
          "name": "stdout"
        }
      ]
    },
    {
      "cell_type": "markdown",
      "metadata": {
        "id": "nEq8foA2g6zh"
      },
      "source": [
        "Naive Bayes with Cross Value"
      ]
    },
    {
      "cell_type": "markdown",
      "metadata": {
        "id": "KJSpHcAug6zi"
      },
      "source": [
        "Import Datasets"
      ]
    },
    {
      "cell_type": "code",
      "metadata": {
        "id": "cHMKG6Plg6zi"
      },
      "source": [
        "import numpy as np\n",
        "from sklearn import datasets\n"
      ],
      "execution_count": 9,
      "outputs": []
    },
    {
      "cell_type": "code",
      "metadata": {
        "colab": {
          "base_uri": "https://localhost:8080/"
        },
        "id": "53u5yxmPg6zi",
        "outputId": "c201e776-d842-4966-ed81-884f9dcb5959"
      },
      "source": [
        "X, y = datasets.load_iris(return_X_y=True)\n",
        "X.shape, y.shape"
      ],
      "execution_count": 10,
      "outputs": [
        {
          "output_type": "execute_result",
          "data": {
            "text/plain": [
              "((150, 4), (150,))"
            ]
          },
          "metadata": {
            "tags": []
          },
          "execution_count": 10
        }
      ]
    },
    {
      "cell_type": "code",
      "metadata": {
        "id": "fFPNVMW7g6zi"
      },
      "source": [
        "from sklearn.model_selection import train_test_split\n",
        "from sklearn.naive_bayes import GaussianNB\n",
        "gnb = GaussianNB()\n",
        "X_train, X_test, y_train, y_test = train_test_split(X, y, test_size=0.3, random_state=0)\n",
        "X_train.shape, y_train.shape\n",
        "clf = gnb.fit(X_train, y_train)\n",
        "y_predict = gnb.predict(X)"
      ],
      "execution_count": 12,
      "outputs": []
    },
    {
      "cell_type": "code",
      "metadata": {
        "colab": {
          "base_uri": "https://localhost:8080/"
        },
        "id": "JbFDGuexg6zj",
        "outputId": "feea800e-557b-4626-fdd8-f71a08115460"
      },
      "source": [
        "from sklearn.model_selection import cross_val_score\n",
        "scores = cross_val_score(clf, X, y, cv=10)\n",
        "scores"
      ],
      "execution_count": 13,
      "outputs": [
        {
          "output_type": "execute_result",
          "data": {
            "text/plain": [
              "array([0.93333333, 0.93333333, 1.        , 0.93333333, 0.93333333,\n",
              "       0.93333333, 0.86666667, 1.        , 1.        , 1.        ])"
            ]
          },
          "metadata": {
            "tags": []
          },
          "execution_count": 13
        }
      ]
    }
  ]
}