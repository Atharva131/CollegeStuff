{
 "cells": [
  {
   "cell_type": "markdown",
   "id": "considerable-exhibit",
   "metadata": {},
   "source": [
    "## Name: Nikam Atharv Satish\n",
    "## Roll No: PA-10"
   ]
  },
  {
   "cell_type": "code",
   "execution_count": 1,
   "id": "welcome-mexico",
   "metadata": {},
   "outputs": [],
   "source": [
    "import pandas as pd\n",
    "import numpy as np\n",
    "from sklearn import model_selection\n",
    "from sklearn.tree import DecisionTreeClassifier\n",
    "from sklearn.neighbors import KNeighborsClassifier\n",
    "from sklearn.metrics import accuracy_score\n",
    "from sklearn.svm import SVC\n",
    "from sklearn.ensemble import VotingClassifier"
   ]
  },
  {
   "cell_type": "code",
   "execution_count": 10,
   "id": "presidential-relative",
   "metadata": {},
   "outputs": [],
   "source": [
    "pima = pd.read_csv(\"pima-indians-diabetes.csv\")"
   ]
  },
  {
   "cell_type": "code",
   "execution_count": 11,
   "id": "marked-region",
   "metadata": {},
   "outputs": [],
   "source": [
    "#col_names = ['pregnant', 'glucose', 'bp', 'insulin', 'bmi', 'pedigree', 'age', 'label']\n",
    "#pima = pd.read_csv(\"path\", header = None, name = col_names)\n",
    "feature_cols = ['Pregnancies','Glucose','BloodPressure','Insulin','BMI','DiabetesPedigreeFunction','Age']"
   ]
  },
  {
   "cell_type": "code",
   "execution_count": 12,
   "id": "behavioral-rouge",
   "metadata": {},
   "outputs": [],
   "source": [
    "X = pima[feature_cols]    #features\n",
    "Y = pima['Outcome']    #target variable"
   ]
  },
  {
   "cell_type": "markdown",
   "id": "another-disclaimer",
   "metadata": {},
   "source": [
    "## Bagging Ensemble model"
   ]
  },
  {
   "cell_type": "code",
   "execution_count": 13,
   "id": "cardiac-diagram",
   "metadata": {},
   "outputs": [],
   "source": [
    "estimators = []\n",
    "\n",
    "model1 = KNeighborsClassifier(n_neighbors=3)\n",
    "estimators.append(('KNN', model1))\n",
    "\n",
    "model2 = DecisionTreeClassifier()\n",
    "estimators.append(('cart', model2))\n",
    "\n",
    "model3 = SVC()\n",
    "estimators.append(('svm', model3))"
   ]
  },
  {
   "cell_type": "code",
   "execution_count": 14,
   "id": "patent-convergence",
   "metadata": {},
   "outputs": [],
   "source": [
    "#creating ensemble model\n",
    "#bagging ensemble\n",
    "ensemble = VotingClassifier(estimators)"
   ]
  },
  {
   "cell_type": "code",
   "execution_count": 15,
   "id": "polish-carol",
   "metadata": {},
   "outputs": [
    {
     "data": {
      "text/plain": [
       "0.8971354166666666"
      ]
     },
     "execution_count": 15,
     "metadata": {},
     "output_type": "execute_result"
    }
   ],
   "source": [
    "#training and testing\n",
    "eclf1 = ensemble.fit(X, Y)\n",
    "y_pred = eclf1.predict(X)\n",
    "\n",
    "accuracy_score(Y, y_pred)"
   ]
  },
  {
   "cell_type": "markdown",
   "id": "listed-fault",
   "metadata": {},
   "source": [
    "## AdaBoost Classifier"
   ]
  },
  {
   "cell_type": "code",
   "execution_count": 2,
   "id": "interior-perth",
   "metadata": {},
   "outputs": [],
   "source": [
    "from sklearn.ensemble import AdaBoostClassifier\n",
    "from sklearn import model_selection"
   ]
  },
  {
   "cell_type": "code",
   "execution_count": 3,
   "id": "close-company",
   "metadata": {},
   "outputs": [],
   "source": [
    "from sklearn import datasets\n",
    "from sklearn import metrics"
   ]
  },
  {
   "cell_type": "code",
   "execution_count": 4,
   "id": "spiritual-norwegian",
   "metadata": {},
   "outputs": [],
   "source": [
    "iris = datasets.load_iris()\n",
    "X = iris.data\n",
    "y = iris.target"
   ]
  },
  {
   "cell_type": "code",
   "execution_count": 5,
   "id": "pleasant-cursor",
   "metadata": {},
   "outputs": [],
   "source": [
    "#default: decision tree\n",
    "\n",
    "abc = AdaBoostClassifier(n_estimators = 50)  #adaboost classifier object\n",
    "model = abc.fit(X, y)  #training\n",
    "y_pred = model.predict(X)  #prediction"
   ]
  },
  {
   "cell_type": "code",
   "execution_count": 6,
   "id": "golden-locking",
   "metadata": {},
   "outputs": [
    {
     "name": "stdout",
     "output_type": "stream",
     "text": [
      "Accuracy:  0.96\n"
     ]
    }
   ],
   "source": [
    "print(\"Accuracy: \", metrics.accuracy_score(y, y_pred))"
   ]
  },
  {
   "cell_type": "code",
   "execution_count": 8,
   "id": "strong-hypothesis",
   "metadata": {},
   "outputs": [],
   "source": [
    "#using svm with adaboost\n",
    "\n",
    "from sklearn.svm import SVC"
   ]
  },
  {
   "cell_type": "code",
   "execution_count": 13,
   "id": "modified-imperial",
   "metadata": {},
   "outputs": [],
   "source": [
    "svc = SVC(probability = True, kernel = 'linear')\n",
    "abc = AdaBoostClassifier(n_estimators = 50, base_estimator = svc)"
   ]
  },
  {
   "cell_type": "code",
   "execution_count": 14,
   "id": "indian-split",
   "metadata": {},
   "outputs": [],
   "source": [
    "model = abc.fit(X, y)\n",
    "y_pred = model.predict(X)"
   ]
  },
  {
   "cell_type": "code",
   "execution_count": 15,
   "id": "center-casting",
   "metadata": {},
   "outputs": [
    {
     "name": "stdout",
     "output_type": "stream",
     "text": [
      "Accuracy:  0.9866666666666667\n"
     ]
    }
   ],
   "source": [
    "print(\"Accuracy: \", metrics.accuracy_score(y, y_pred))"
   ]
  },
  {
   "cell_type": "markdown",
   "id": "cellular-count",
   "metadata": {},
   "source": [
    "## Iris Dataset"
   ]
  },
  {
   "cell_type": "code",
   "execution_count": 2,
   "id": "mobile-locking",
   "metadata": {},
   "outputs": [],
   "source": [
    "from sklearn.naive_bayes import GaussianNB"
   ]
  },
  {
   "cell_type": "code",
   "execution_count": 3,
   "id": "bottom-palace",
   "metadata": {},
   "outputs": [
    {
     "data": {
      "text/plain": [
       "((150, 4), (150,))"
      ]
     },
     "execution_count": 3,
     "metadata": {},
     "output_type": "execute_result"
    }
   ],
   "source": [
    "from sklearn.model_selection import train_test_split\n",
    "from sklearn import datasets\n",
    "\n",
    "X, y = datasets.load_iris(return_X_y = True)\n",
    "X.shape, y.shape"
   ]
  },
  {
   "cell_type": "code",
   "execution_count": 6,
   "id": "aerial-responsibility",
   "metadata": {},
   "outputs": [],
   "source": [
    "gnb = GaussianNB()\n",
    "X_train, X_test, y_train, y_test = train_test_split(X, y, test_size = 0.3, random_state = 0)\n",
    "X_train.shape, y_train.shape\n",
    "\n",
    "clf = gnb.fit(X_train, y_train)\n",
    "y_predict = gnb.predict(X)"
   ]
  },
  {
   "cell_type": "code",
   "execution_count": 7,
   "id": "abandoned-tsunami",
   "metadata": {},
   "outputs": [
    {
     "data": {
      "text/plain": [
       "array([0.93333333, 0.93333333, 1.        , 0.93333333, 0.93333333,\n",
       "       0.93333333, 0.86666667, 1.        , 1.        , 1.        ])"
      ]
     },
     "execution_count": 7,
     "metadata": {},
     "output_type": "execute_result"
    }
   ],
   "source": [
    "from sklearn.model_selection import cross_val_score\n",
    "scores = cross_val_score(clf, X, y, cv=10)\n",
    "scores"
   ]
  },
  {
   "cell_type": "code",
   "execution_count": 8,
   "id": "considered-uniform",
   "metadata": {},
   "outputs": [
    {
     "data": {
      "text/plain": [
       "0.9533333333333334"
      ]
     },
     "execution_count": 8,
     "metadata": {},
     "output_type": "execute_result"
    }
   ],
   "source": [
    "scores.mean()"
   ]
  },
  {
   "cell_type": "code",
   "execution_count": null,
   "id": "editorial-stable",
   "metadata": {},
   "outputs": [],
   "source": []
  }
 ],
 "metadata": {
  "kernelspec": {
   "display_name": "Python 3",
   "language": "python",
   "name": "python3"
  },
  "language_info": {
   "codemirror_mode": {
    "name": "ipython",
    "version": 3
   },
   "file_extension": ".py",
   "mimetype": "text/x-python",
   "name": "python",
   "nbconvert_exporter": "python",
   "pygments_lexer": "ipython3",
   "version": "3.9.5"
  }
 },
 "nbformat": 4,
 "nbformat_minor": 5
}
