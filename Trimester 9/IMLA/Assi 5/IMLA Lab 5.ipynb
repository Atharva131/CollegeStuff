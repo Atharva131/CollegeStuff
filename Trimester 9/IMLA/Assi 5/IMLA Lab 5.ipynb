{
  "nbformat": 4,
  "nbformat_minor": 0,
  "metadata": {
    "colab": {
      "name": "Untitled2.ipynb",
      "provenance": []
    },
    "kernelspec": {
      "name": "python3",
      "display_name": "Python 3"
    },
    "language_info": {
      "name": "python"
    }
  },
  "cells": [
    {
      "cell_type": "code",
      "metadata": {
        "colab": {
          "base_uri": "https://localhost:8080/",
          "height": 204
        },
        "id": "2TDAjF86zNcb",
        "outputId": "96b0ebc8-0514-4606-d29a-236c628b1e80"
      },
      "source": [
        "import numpy as np\n",
        "import pandas as pd\n",
        "dataset = pd.read_csv(\"dt1.csv\")\n",
        "dataset.head()"
      ],
      "execution_count": 2,
      "outputs": [
        {
          "output_type": "execute_result",
          "data": {
            "text/html": [
              "<div>\n",
              "<style scoped>\n",
              "    .dataframe tbody tr th:only-of-type {\n",
              "        vertical-align: middle;\n",
              "    }\n",
              "\n",
              "    .dataframe tbody tr th {\n",
              "        vertical-align: top;\n",
              "    }\n",
              "\n",
              "    .dataframe thead th {\n",
              "        text-align: right;\n",
              "    }\n",
              "</style>\n",
              "<table border=\"1\" class=\"dataframe\">\n",
              "  <thead>\n",
              "    <tr style=\"text-align: right;\">\n",
              "      <th></th>\n",
              "      <th>age</th>\n",
              "      <th>income</th>\n",
              "      <th>Student</th>\n",
              "      <th>credit_rating</th>\n",
              "      <th>buy_comp</th>\n",
              "    </tr>\n",
              "  </thead>\n",
              "  <tbody>\n",
              "    <tr>\n",
              "      <th>0</th>\n",
              "      <td>&lt;30</td>\n",
              "      <td>high</td>\n",
              "      <td>no</td>\n",
              "      <td>fair</td>\n",
              "      <td>no</td>\n",
              "    </tr>\n",
              "    <tr>\n",
              "      <th>1</th>\n",
              "      <td>&lt;30</td>\n",
              "      <td>high</td>\n",
              "      <td>no</td>\n",
              "      <td>excellent</td>\n",
              "      <td>no</td>\n",
              "    </tr>\n",
              "    <tr>\n",
              "      <th>2</th>\n",
              "      <td>30-40</td>\n",
              "      <td>high</td>\n",
              "      <td>no</td>\n",
              "      <td>fair</td>\n",
              "      <td>yes</td>\n",
              "    </tr>\n",
              "    <tr>\n",
              "      <th>3</th>\n",
              "      <td>&gt;40</td>\n",
              "      <td>medium</td>\n",
              "      <td>no</td>\n",
              "      <td>fair</td>\n",
              "      <td>yes</td>\n",
              "    </tr>\n",
              "    <tr>\n",
              "      <th>4</th>\n",
              "      <td>&gt;40</td>\n",
              "      <td>low</td>\n",
              "      <td>yes</td>\n",
              "      <td>fair</td>\n",
              "      <td>yes</td>\n",
              "    </tr>\n",
              "  </tbody>\n",
              "</table>\n",
              "</div>"
            ],
            "text/plain": [
              "     age  income Student credit_rating buy_comp\n",
              "0    <30    high      no          fair       no\n",
              "1    <30    high      no     excellent       no\n",
              "2  30-40    high      no          fair      yes\n",
              "3    >40  medium      no          fair      yes\n",
              "4    >40     low     yes          fair      yes"
            ]
          },
          "metadata": {
            "tags": []
          },
          "execution_count": 2
        }
      ]
    },
    {
      "cell_type": "code",
      "metadata": {
        "id": "MkPbdzq9zgjT"
      },
      "source": [
        "X = dataset.iloc[:,:-1]\n",
        "Y = dataset.iloc[:,4:5].values"
      ],
      "execution_count": 4,
      "outputs": []
    },
    {
      "cell_type": "code",
      "metadata": {
        "colab": {
          "base_uri": "https://localhost:8080/"
        },
        "id": "7NRG1WzGzzm2",
        "outputId": "6422f46a-0dc6-4931-dfdd-3839c7b8b6f9"
      },
      "source": [
        "from sklearn.preprocessing import LabelEncoder\n",
        "labelencoder_X = LabelEncoder()\n",
        "X = X.apply(LabelEncoder().fit_transform)\n",
        "print(X)"
      ],
      "execution_count": 5,
      "outputs": [
        {
          "output_type": "stream",
          "text": [
            "    age  income  Student  credit_rating\n",
            "0     1       0        0              1\n",
            "1     1       0        0              0\n",
            "2     0       0        0              1\n",
            "3     2       2        0              1\n",
            "4     2       1        1              1\n",
            "5     2       1        1              0\n",
            "6     0       1        1              0\n",
            "7     1       2        0              1\n",
            "8     1       1        1              1\n",
            "9     2       2        1              1\n",
            "10    1       2        1              0\n",
            "11    0       2        0              0\n",
            "12    0       0        1              1\n",
            "13    2       2        0              0\n"
          ],
          "name": "stdout"
        }
      ]
    },
    {
      "cell_type": "code",
      "metadata": {
        "colab": {
          "base_uri": "https://localhost:8080/"
        },
        "id": "Si1EoWFC0zPZ",
        "outputId": "5868f33b-ae78-4dec-dcc2-f31a6c1525b7"
      },
      "source": [
        "from sklearn.tree import DecisionTreeClassifier\n",
        "classifier = DecisionTreeClassifier()\n",
        "classifier = classifier.fit(X, Y)\n",
        "\n",
        "X_in = np.array([1,1,0,0])\n",
        "pred_y = regressor.predict([X_in])\n",
        "print(\"Prediction: \", pred_y)"
      ],
      "execution_count": 7,
      "outputs": [
        {
          "output_type": "stream",
          "text": [
            "Prediction:  ['no']\n"
          ],
          "name": "stdout"
        }
      ]
    },
    {
      "cell_type": "code",
      "metadata": {
        "colab": {
          "base_uri": "https://localhost:8080/"
        },
        "id": "gL-lb2rFz9Xy",
        "outputId": "2a2642d3-1d26-46d8-f9cf-6db647a4a3e4"
      },
      "source": [
        "from sklearn.tree import DecisionTreeClassifier\n",
        "regressor = DecisionTreeClassifier(criterion='gini', max_depth=5, splitter='best')\n",
        "regressor.fit(X,Y) \n",
        "\n",
        "y_pred = regressor.predict([X_in])\n",
        "print(\"Prediction: \", y_pred)"
      ],
      "execution_count": 8,
      "outputs": [
        {
          "output_type": "stream",
          "text": [
            "Prediction:  ['no']\n"
          ],
          "name": "stdout"
        }
      ]
    }
  ]
}